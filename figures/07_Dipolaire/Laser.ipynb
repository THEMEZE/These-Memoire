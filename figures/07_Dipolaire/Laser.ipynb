version https://git-lfs.github.com/spec/v1
oid sha256:41c4b579a8e81e3bab487c1dc54d4fbd24e9463f8021674d5207e015f4fd8516
size 401562
