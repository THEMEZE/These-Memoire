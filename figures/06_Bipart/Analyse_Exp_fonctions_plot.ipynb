{
 "cells": [
  {
   "cell_type": "markdown",
   "id": "46f17f9c",
   "metadata": {},
   "source": [
    "# Pour afficher les images et les selections"
   ]
  },
  {
   "cell_type": "code",
   "execution_count": null,
   "id": "1401f9e7",
   "metadata": {},
   "outputs": [],
   "source": [
    "def plot_atoms_selec_background_selec ( ax , atoms_selec , background_selec , colora='red' , colorb='white') :\n",
    "    # Sélection du nuage d'atomes\n",
    "    ax.plot([atoms_selec[0,0],atoms_selec[1,0]] , [atoms_selec[0,1], atoms_selec[0,1] ],'-',color=colora,linewidth=1)\n",
    "    ax.plot([atoms_selec[0,0],atoms_selec[0,0]] , [atoms_selec[0,1], atoms_selec[1,1] ],'-',color=colora,linewidth=1)\n",
    "    ax.plot([atoms_selec[0,0],atoms_selec[1,0]] , [atoms_selec[1,1], atoms_selec[1,1] ],'-',color=colora,linewidth=1)\n",
    "    ax.plot([atoms_selec[1,0],atoms_selec[1,0]] , [atoms_selec[1,1], atoms_selec[0,1] ],'-',color=colora,linewidth=1)\n",
    "    # Sélection du background\n",
    "    ax.plot([background_selec[0,0],background_selec[1,0]] , [background_selec[0,1], background_selec[0,1] ],'-',color=colorb,linewidth=1)\n",
    "    ax.plot([background_selec[0,0],background_selec[0,0]] , [background_selec[0,1], background_selec[1,1] ],'-',color=colorb,linewidth=1)\n",
    "    ax.plot([background_selec[0,0],background_selec[1,0]] , [background_selec[1,1], background_selec[1,1] ],'-',color=colorb,linewidth=1)\n",
    "    ax.plot([background_selec[1,0],background_selec[1,0]] , [background_selec[1,1], background_selec[0,1] ],'-',color=colorb,linewidth=1)    "
   ]
  },
  {
   "cell_type": "code",
   "execution_count": null,
   "id": "4f63b8ca",
   "metadata": {},
   "outputs": [],
   "source": [
    "def plot_image ( ax , pic , vmin = -0.1, vmax = 0.3 ) : \n",
    "    ax.pcolormesh(pic, vmin = vmin , vmax = vmax , cmap = \"jet\")\n",
    "    #im = ax.pcolormesh(pic,vmin = vmin  , vmax = vmax, cmap = \"jet\" )\n",
    "    #cax = ax.inset_axes([1.04 , 0.0 , 0.02 , 1.0 ] , transform = ax.transAxes )    \n",
    "    #fig.colorbar(im  , ax = ax , shrink = 1.0 , cax = cax )"
   ]
  },
  {
   "cell_type": "code",
   "execution_count": null,
   "id": "947b7abd",
   "metadata": {},
   "outputs": [],
   "source": [
    "def plot_image_selection ( ax , pic , atoms_selec , background_selec ,  vmin = -0.1, vmax = 1.0  , colora='red' , colorb='white') :\n",
    "    plot_atoms_selec_background_selec ( ax , atoms_selec , background_selec , colora , colorb)\n",
    "    plot_image ( ax , pic , vmin, vmax)"
   ]
  }
 ],
 "metadata": {
  "kernelspec": {
   "display_name": "Python 3 (ipykernel)",
   "language": "python",
   "name": "python3"
  },
  "language_info": {
   "codemirror_mode": {
    "name": "ipython",
    "version": 3
   },
   "file_extension": ".py",
   "mimetype": "text/x-python",
   "name": "python",
   "nbconvert_exporter": "python",
   "pygments_lexer": "ipython3",
   "version": "3.10.13"
  }
 },
 "nbformat": 4,
 "nbformat_minor": 5
}
