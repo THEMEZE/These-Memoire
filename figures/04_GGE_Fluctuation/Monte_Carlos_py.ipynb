{
 "cells": [
  {
   "cell_type": "code",
   "execution_count": 15,
   "id": "f7b74ac6-682b-4ee1-8cd1-30f39b6063c1",
   "metadata": {},
   "outputs": [
    {
     "name": "stderr",
     "output_type": "stream",
     "text": [
      "/tmp/ipykernel_113784/3291919428.py:17: IntegrationWarning: The occurrence of roundoff error is detected, which prevents \n",
      "  the requested tolerance from being achieved.  The error may be \n",
      "  underestimated.\n",
      "  integral = spi.quad(kernel, -10, 10)[0]  # Limiter l'intégration à [-10, 10]\n"
     ]
    },
    {
     "data": {
      "image/png": "[encoded data removed]",
      "text/plain": [
       "<Figure size 432x288 with 2 Axes>"
      ]
     },
     "metadata": {
      "needs_background": "light"
     },
     "output_type": "display_data"
    },
    {
     "name": "stdout",
     "output_type": "stream",
     "text": [
      "[[0. 0. 0. ... 0. 0. 0.]\n",
      " [0. 0. 0. ... 0. 0. 0.]\n",
      " [0. 0. 0. ... 0. 0. 0.]\n",
      " ...\n",
      " [0. 0. 0. ... 0. 0. 0.]\n",
      " [0. 0. 0. ... 0. 0. 0.]\n",
      " [0. 0. 0. ... 0. 0. 0.]]\n"
     ]
    }
   ],
   "source": [
    "import numpy as np\n",
    "import scipy.integrate as spi\n",
    "import scipy.optimize as spo\n",
    "import matplotlib.pyplot as plt\n",
    "\n",
    "# Paramètres du modèle\n",
    "L = 100  # Longueur du système\n",
    "N = 10000  # Nombre de particules\n",
    "c = 1.0  # Intensité de l'interaction\n",
    "MCMC_steps = 100000  # Nombre d'itérations Monte Carlo\n",
    "\n",
    "# Équation intégrale de Bethe pour obtenir rho(k)\n",
    "def bethe_equation(rho_vals, k_vals, k, c):\n",
    "    def kernel(kp):\n",
    "        rho_kp = np.interp(kp, k_vals, rho_vals)  # Interpolation pour approximer rho(kp)\n",
    "        return (1 / np.pi) * (2 * c / (c**2 + (k - kp)**2)) * rho_kp\n",
    "    integral = spi.quad(kernel, -10, 10)[0]  # Limiter l'intégration à [-10, 10]\n",
    "    rho_k = np.interp(k, k_vals, rho_vals)\n",
    "    return rho_k + 1 / (2 * np.pi) * integral - 1 / (2 * np.pi)\n",
    "\n",
    "# Discrétisation de k\n",
    "k_vals = np.linspace(-5, 5, 200)\n",
    "\n",
    "# Approximation de rho(k) avec une solution initiale\n",
    "rho_solution = rho_init.copy()\n",
    "tolerance = 1e-6\n",
    "max_iterations = 100\n",
    "\n",
    "for _ in range(max_iterations):\n",
    "    rho_new = np.zeros_like(rho_solution)\n",
    "    for i, k in enumerate(k_vals):\n",
    "        rho_new[i] = bethe_equation(rho_solution, k_vals, k, c)  # Utilisation de la fonction directement\n",
    "    if np.max(np.abs(rho_new - rho_solution)) < tolerance:\n",
    "        break  # Convergence atteinte\n",
    "    rho_solution = rho_new\n",
    "\n",
    "# Génération des k_j par inversion de la densité cumulative\n",
    "cdf = np.cumsum(rho_solution) / np.sum(rho_solution)\n",
    "k_samples = np.interp(np.random.rand(N), cdf, k_vals)\n",
    "\n",
    "# Monte Carlo Metropolis-Hastings pour fluctuation de rho(k)\n",
    "def metropolis_hastings(k_samples, steps, delta=0.1):\n",
    "    samples = []\n",
    "    current_k = k_samples.copy()\n",
    "    for _ in range(steps):\n",
    "        k_new = current_k + delta * (2 * np.random.rand(N) - 1)\n",
    "        acceptance_ratio = np.exp(-np.sum((k_new - current_k)**2) / (2 * delta**2))\n",
    "        if np.random.rand() < acceptance_ratio:\n",
    "            current_k = k_new\n",
    "        samples.append(current_k.copy())\n",
    "    return np.array(samples)\n",
    "\n",
    "# Exécution du Monte Carlo\n",
    "mc_samples = metropolis_hastings(k_samples, MCMC_steps)\n",
    "\n",
    "# Calcul des fluctuations delta rho(k)\n",
    "def compute_density_fluctuations(mc_samples, k_vals, bins=50):\n",
    "    densities = np.array([np.histogram(sample, bins=bins, range=(min(k_vals), max(k_vals)))[0] for sample in mc_samples])\n",
    "    mean_density = np.mean(densities, axis=0)\n",
    "    delta_rho = densities - mean_density\n",
    "    return delta_rho\n",
    "\n",
    "# Matrice de covariance\n",
    "fluctuations = compute_density_fluctuations(mc_samples, k_vals)\n",
    "cov_matrix = np.cov(fluctuations.T)\n",
    "\n",
    "# Affichage des résultats\n",
    "plt.imshow(cov_matrix, extent=[-5, 5, -5, 5], origin='lower', aspect='auto')\n",
    "plt.colorbar(label='$C(k, k\\')$')\n",
    "plt.xlabel('$k$')\n",
    "plt.ylabel(\"$k'$\")\n",
    "plt.title('Corrélation des fluctuations de la densité de rapide')\n",
    "plt.show()\n",
    "\n",
    "print (cov_matrix)"
   ]
  },
  {
   "cell_type": "code",
   "execution_count": 19,
   "id": "051bcd4c-ffde-4e40-8b54-680b5d8fefd5",
   "metadata": {},
   "outputs": [
    {
     "ename": "ValueError",
     "evalue": "f(a) and f(b) must have different signs",
     "output_type": "error",
     "traceback": [
      "\u001b[0;31m---------------------------------------------------------------------------\u001b[0m",
      "\u001b[0;31mValueError\u001b[0m                                Traceback (most recent call last)",
      "\u001b[0;32m/tmp/ipykernel_113784/149993188.py\u001b[0m in \u001b[0;36m<module>\u001b[0;34m\u001b[0m\n\u001b[1;32m     24\u001b[0m \u001b[0;31m# Discrétisation de n_j\u001b[0m\u001b[0;34m\u001b[0m\u001b[0;34m\u001b[0m\u001b[0m\n\u001b[1;32m     25\u001b[0m \u001b[0mn_vals\u001b[0m \u001b[0;34m=\u001b[0m \u001b[0mnp\u001b[0m\u001b[0;34m.\u001b[0m\u001b[0marange\u001b[0m\u001b[0;34m(\u001b[0m\u001b[0;34m-\u001b[0m\u001b[0mN\u001b[0m\u001b[0;34m//\u001b[0m\u001b[0;36m2\u001b[0m\u001b[0;34m,\u001b[0m \u001b[0mN\u001b[0m\u001b[0;34m//\u001b[0m\u001b[0;36m2\u001b[0m\u001b[0;34m)\u001b[0m\u001b[0;34m\u001b[0m\u001b[0;34m\u001b[0m\u001b[0m\n\u001b[0;32m---> 26\u001b[0;31m \u001b[0mk_vals\u001b[0m \u001b[0;34m=\u001b[0m \u001b[0mbethe_equation\u001b[0m\u001b[0;34m(\u001b[0m\u001b[0mn_vals\u001b[0m\u001b[0;34m,\u001b[0m \u001b[0mL\u001b[0m\u001b[0;34m,\u001b[0m \u001b[0mc\u001b[0m\u001b[0;34m,\u001b[0m \u001b[0mn_vals\u001b[0m\u001b[0;34m)\u001b[0m\u001b[0;34m\u001b[0m\u001b[0;34m\u001b[0m\u001b[0m\n\u001b[0m\u001b[1;32m     27\u001b[0m \u001b[0;34m\u001b[0m\u001b[0m\n\u001b[1;32m     28\u001b[0m \u001b[0;31m# Monte Carlo Metropolis-Hastings pour fluctuation de k_j\u001b[0m\u001b[0;34m\u001b[0m\u001b[0;34m\u001b[0m\u001b[0m\n",
      "\u001b[0;32m/tmp/ipykernel_113784/149993188.py\u001b[0m in \u001b[0;36mbethe_equation\u001b[0;34m(k_vals, L, c, n_vals)\u001b[0m\n\u001b[1;32m     20\u001b[0m         \u001b[0;32mreturn\u001b[0m \u001b[0mkj\u001b[0m \u001b[0;34m*\u001b[0m \u001b[0mL\u001b[0m \u001b[0;34m+\u001b[0m \u001b[0msum_theta\u001b[0m \u001b[0;34m-\u001b[0m \u001b[0;36m2\u001b[0m \u001b[0;34m*\u001b[0m \u001b[0mnp\u001b[0m\u001b[0;34m.\u001b[0m\u001b[0mpi\u001b[0m \u001b[0;34m*\u001b[0m \u001b[0mnj\u001b[0m\u001b[0;34m\u001b[0m\u001b[0;34m\u001b[0m\u001b[0m\n\u001b[1;32m     21\u001b[0m \u001b[0;34m\u001b[0m\u001b[0m\n\u001b[0;32m---> 22\u001b[0;31m     \u001b[0;32mreturn\u001b[0m \u001b[0;34m[\u001b[0m\u001b[0mspo\u001b[0m\u001b[0;34m.\u001b[0m\u001b[0mroot_scalar\u001b[0m\u001b[0;34m(\u001b[0m\u001b[0mequation\u001b[0m\u001b[0;34m,\u001b[0m \u001b[0margs\u001b[0m\u001b[0;34m=\u001b[0m\u001b[0;34m(\u001b[0m\u001b[0mk_vals\u001b[0m\u001b[0;34m,\u001b[0m \u001b[0mL\u001b[0m\u001b[0;34m,\u001b[0m \u001b[0mc\u001b[0m\u001b[0;34m,\u001b[0m \u001b[0mn\u001b[0m\u001b[0;34m)\u001b[0m\u001b[0;34m,\u001b[0m \u001b[0mbracket\u001b[0m\u001b[0;34m=\u001b[0m\u001b[0;34m[\u001b[0m\u001b[0;34m-\u001b[0m\u001b[0;36m10\u001b[0m\u001b[0;34m,\u001b[0m \u001b[0;36m10\u001b[0m\u001b[0;34m]\u001b[0m\u001b[0;34m)\u001b[0m\u001b[0;34m.\u001b[0m\u001b[0mroot\u001b[0m \u001b[0;32mfor\u001b[0m \u001b[0mn\u001b[0m \u001b[0;32min\u001b[0m \u001b[0mn_vals\u001b[0m\u001b[0;34m]\u001b[0m\u001b[0;34m\u001b[0m\u001b[0;34m\u001b[0m\u001b[0m\n\u001b[0m\u001b[1;32m     23\u001b[0m \u001b[0;34m\u001b[0m\u001b[0m\n\u001b[1;32m     24\u001b[0m \u001b[0;31m# Discrétisation de n_j\u001b[0m\u001b[0;34m\u001b[0m\u001b[0;34m\u001b[0m\u001b[0m\n",
      "\u001b[0;32m/tmp/ipykernel_113784/149993188.py\u001b[0m in \u001b[0;36m<listcomp>\u001b[0;34m(.0)\u001b[0m\n\u001b[1;32m     20\u001b[0m         \u001b[0;32mreturn\u001b[0m \u001b[0mkj\u001b[0m \u001b[0;34m*\u001b[0m \u001b[0mL\u001b[0m \u001b[0;34m+\u001b[0m \u001b[0msum_theta\u001b[0m \u001b[0;34m-\u001b[0m \u001b[0;36m2\u001b[0m \u001b[0;34m*\u001b[0m \u001b[0mnp\u001b[0m\u001b[0;34m.\u001b[0m\u001b[0mpi\u001b[0m \u001b[0;34m*\u001b[0m \u001b[0mnj\u001b[0m\u001b[0;34m\u001b[0m\u001b[0;34m\u001b[0m\u001b[0m\n\u001b[1;32m     21\u001b[0m \u001b[0;34m\u001b[0m\u001b[0m\n\u001b[0;32m---> 22\u001b[0;31m     \u001b[0;32mreturn\u001b[0m \u001b[0;34m[\u001b[0m\u001b[0mspo\u001b[0m\u001b[0;34m.\u001b[0m\u001b[0mroot_scalar\u001b[0m\u001b[0;34m(\u001b[0m\u001b[0mequation\u001b[0m\u001b[0;34m,\u001b[0m \u001b[0margs\u001b[0m\u001b[0;34m=\u001b[0m\u001b[0;34m(\u001b[0m\u001b[0mk_vals\u001b[0m\u001b[0;34m,\u001b[0m \u001b[0mL\u001b[0m\u001b[0;34m,\u001b[0m \u001b[0mc\u001b[0m\u001b[0;34m,\u001b[0m \u001b[0mn\u001b[0m\u001b[0;34m)\u001b[0m\u001b[0;34m,\u001b[0m \u001b[0mbracket\u001b[0m\u001b[0;34m=\u001b[0m\u001b[0;34m[\u001b[0m\u001b[0;34m-\u001b[0m\u001b[0;36m10\u001b[0m\u001b[0;34m,\u001b[0m \u001b[0;36m10\u001b[0m\u001b[0;34m]\u001b[0m\u001b[0;34m)\u001b[0m\u001b[0;34m.\u001b[0m\u001b[0mroot\u001b[0m \u001b[0;32mfor\u001b[0m \u001b[0mn\u001b[0m \u001b[0;32min\u001b[0m \u001b[0mn_vals\u001b[0m\u001b[0;34m]\u001b[0m\u001b[0;34m\u001b[0m\u001b[0;34m\u001b[0m\u001b[0m\n\u001b[0m\u001b[1;32m     23\u001b[0m \u001b[0;34m\u001b[0m\u001b[0m\n\u001b[1;32m     24\u001b[0m \u001b[0;31m# Discrétisation de n_j\u001b[0m\u001b[0;34m\u001b[0m\u001b[0;34m\u001b[0m\u001b[0m\n",
      "\u001b[0;32m~/.local/lib/python3.10/site-packages/scipy/optimize/_root_scalar.py\u001b[0m in \u001b[0;36mroot_scalar\u001b[0;34m(f, args, method, bracket, fprime, fprime2, x0, x1, xtol, rtol, maxiter, options)\u001b[0m\n\u001b[1;32m    277\u001b[0m         \u001b[0ma\u001b[0m\u001b[0;34m,\u001b[0m \u001b[0mb\u001b[0m \u001b[0;34m=\u001b[0m \u001b[0mbracket\u001b[0m\u001b[0;34m[\u001b[0m\u001b[0;34m:\u001b[0m\u001b[0;36m2\u001b[0m\u001b[0;34m]\u001b[0m\u001b[0;34m\u001b[0m\u001b[0;34m\u001b[0m\u001b[0m\n\u001b[1;32m    278\u001b[0m         \u001b[0;32mtry\u001b[0m\u001b[0;34m:\u001b[0m\u001b[0;34m\u001b[0m\u001b[0;34m\u001b[0m\u001b[0m\n\u001b[0;32m--> 279\u001b[0;31m             \u001b[0mr\u001b[0m\u001b[0;34m,\u001b[0m \u001b[0msol\u001b[0m \u001b[0;34m=\u001b[0m \u001b[0mmethodc\u001b[0m\u001b[0;34m(\u001b[0m\u001b[0mf\u001b[0m\u001b[0;34m,\u001b[0m \u001b[0ma\u001b[0m\u001b[0;34m,\u001b[0m \u001b[0mb\u001b[0m\u001b[0;34m,\u001b[0m \u001b[0margs\u001b[0m\u001b[0;34m=\u001b[0m\u001b[0margs\u001b[0m\u001b[0;34m,\u001b[0m \u001b[0;34m**\u001b[0m\u001b[0mkwargs\u001b[0m\u001b[0;34m)\u001b[0m\u001b[0;34m\u001b[0m\u001b[0;34m\u001b[0m\u001b[0m\n\u001b[0m\u001b[1;32m    280\u001b[0m         \u001b[0;32mexcept\u001b[0m \u001b[0mValueError\u001b[0m \u001b[0;32mas\u001b[0m \u001b[0me\u001b[0m\u001b[0;34m:\u001b[0m\u001b[0;34m\u001b[0m\u001b[0;34m\u001b[0m\u001b[0m\n\u001b[1;32m    281\u001b[0m             \u001b[0;31m# gh-17622 fixed some bugs in low-level solvers by raising an error\u001b[0m\u001b[0;34m\u001b[0m\u001b[0;34m\u001b[0m\u001b[0m\n",
      "\u001b[0;32m~/.local/lib/python3.10/site-packages/scipy/optimize/_zeros_py.py\u001b[0m in \u001b[0;36mbrentq\u001b[0;34m(f, a, b, args, xtol, rtol, maxiter, full_output, disp)\u001b[0m\n\u001b[1;32m    804\u001b[0m         \u001b[0;32mraise\u001b[0m \u001b[0mValueError\u001b[0m\u001b[0;34m(\u001b[0m\u001b[0;34mf\"rtol too small ({rtol:g} < {_rtol:g})\"\u001b[0m\u001b[0;34m)\u001b[0m\u001b[0;34m\u001b[0m\u001b[0;34m\u001b[0m\u001b[0m\n\u001b[1;32m    805\u001b[0m     \u001b[0mf\u001b[0m \u001b[0;34m=\u001b[0m \u001b[0m_wrap_nan_raise\u001b[0m\u001b[0;34m(\u001b[0m\u001b[0mf\u001b[0m\u001b[0;34m)\u001b[0m\u001b[0;34m\u001b[0m\u001b[0;34m\u001b[0m\u001b[0m\n\u001b[0;32m--> 806\u001b[0;31m     \u001b[0mr\u001b[0m \u001b[0;34m=\u001b[0m \u001b[0m_zeros\u001b[0m\u001b[0;34m.\u001b[0m\u001b[0m_brentq\u001b[0m\u001b[0;34m(\u001b[0m\u001b[0mf\u001b[0m\u001b[0;34m,\u001b[0m \u001b[0ma\u001b[0m\u001b[0;34m,\u001b[0m \u001b[0mb\u001b[0m\u001b[0;34m,\u001b[0m \u001b[0mxtol\u001b[0m\u001b[0;34m,\u001b[0m \u001b[0mrtol\u001b[0m\u001b[0;34m,\u001b[0m \u001b[0mmaxiter\u001b[0m\u001b[0;34m,\u001b[0m \u001b[0margs\u001b[0m\u001b[0;34m,\u001b[0m \u001b[0mfull_output\u001b[0m\u001b[0;34m,\u001b[0m \u001b[0mdisp\u001b[0m\u001b[0;34m)\u001b[0m\u001b[0;34m\u001b[0m\u001b[0;34m\u001b[0m\u001b[0m\n\u001b[0m\u001b[1;32m    807\u001b[0m     \u001b[0;32mreturn\u001b[0m \u001b[0mresults_c\u001b[0m\u001b[0;34m(\u001b[0m\u001b[0mfull_output\u001b[0m\u001b[0;34m,\u001b[0m \u001b[0mr\u001b[0m\u001b[0;34m,\u001b[0m \u001b[0;34m\"brentq\"\u001b[0m\u001b[0;34m)\u001b[0m\u001b[0;34m\u001b[0m\u001b[0;34m\u001b[0m\u001b[0m\n\u001b[1;32m    808\u001b[0m \u001b[0;34m\u001b[0m\u001b[0m\n",
      "\u001b[0;31mValueError\u001b[0m: f(a) and f(b) must have different signs"
     ]
    }
   ],
   "source": [
    "import numpy as np\n",
    "import scipy.integrate as spi\n",
    "import scipy.optimize as spo\n",
    "import matplotlib.pyplot as plt\n",
    "\n",
    "# Paramètres du modèle\n",
    "L = 10  # Longueur du système\n",
    "N = 1000  # Nombre de particules\n",
    "c = 1.0  # Intensité de l'interaction\n",
    "MCMC_steps = 10000  # Nombre d'itérations Monte Carlo\n",
    "\n",
    "# Fonction theta(k_j, k_m)\n",
    "def scattering_phase(kj, km, c):\n",
    "    return 2 * np.arctan((kj - km) / c)\n",
    "\n",
    "# Équation de Bethe sous forme logarithmique\n",
    "def bethe_equation(k_vals, L, c, n_vals):\n",
    "    def equation(kj, k_vals, L, c, nj):\n",
    "        sum_theta = np.sum([scattering_phase(kj, km, c) for km in k_vals])\n",
    "        return kj * L + sum_theta - 2 * np.pi * nj\n",
    "    \n",
    "    return [spo.root_scalar(equation, args=(k_vals, L, c, n), bracket=[-10, 10]).root for n in n_vals]\n",
    "\n",
    "# Discrétisation de n_j\n",
    "n_vals = np.arange(-N//2, N//2)\n",
    "k_vals = bethe_equation(n_vals, L, c, n_vals)\n",
    "\n",
    "# Monte Carlo Metropolis-Hastings pour fluctuation de k_j\n",
    "def metropolis_hastings(k_samples, steps, delta=0.1):\n",
    "    samples = []\n",
    "    current_k = k_samples.copy()\n",
    "    for _ in range(steps):\n",
    "        k_new = current_k + delta * (2 * np.random.rand(N) - 1)\n",
    "        acceptance_ratio = np.exp(-np.sum((k_new - current_k)**2) / (2 * delta**2))\n",
    "        if np.random.rand() < acceptance_ratio:\n",
    "            current_k = k_new\n",
    "        samples.append(current_k.copy())\n",
    "    return np.array(samples)\n",
    "\n",
    "# Exécution du Monte Carlo\n",
    "mc_samples = metropolis_hastings(k_vals, MCMC_steps)\n",
    "\n",
    "# Calcul des fluctuations delta rho(k)\n",
    "def compute_density_fluctuations(mc_samples, k_vals, bins=50):\n",
    "    densities = np.array([np.histogram(sample, bins=bins, range=(min(k_vals), max(k_vals)))[0] for sample in mc_samples])\n",
    "    mean_density = np.mean(densities, axis=0)\n",
    "    delta_rho = densities - mean_density\n",
    "    return delta_rho\n",
    "\n",
    "# Matrice de covariance\n",
    "fluctuations = compute_density_fluctuations(mc_samples, k_vals)\n",
    "cov_matrix = np.cov(fluctuations.T)\n",
    "\n",
    "# Affichage des résultats\n",
    "plt.imshow(cov_matrix, extent=[-5, 5, -5, 5], origin='lower', aspect='auto')\n",
    "plt.colorbar(label='$C(k, k\\')$')\n",
    "plt.xlabel('$k$')\n",
    "plt.ylabel(\"$k'$\")\n",
    "plt.title('Corrélation des fluctuations de la densité de rapide')\n",
    "plt.show()\n"
   ]
  },
  {
   "cell_type": "code",
   "execution_count": 16,
   "id": "16f8dd1c-2912-4ca7-a97c-1964bc8c63ce",
   "metadata": {},
   "outputs": [
    {
     "name": "stdout",
     "output_type": "stream",
     "text": [
      "Moyenne de cov_matrix : 0.000000\n",
      "Écart-type de cov_matrix : 0.000000\n"
     ]
    }
   ],
   "source": [
    "# Calcul de la moyenne et de l'écart-type de la matrice de covariance\n",
    "mean_cov = np.mean(cov_matrix)\n",
    "std_cov = np.std(cov_matrix)\n",
    "\n",
    "print(f\"Moyenne de cov_matrix : {mean_cov:.6f}\")\n",
    "print(f\"Écart-type de cov_matrix : {std_cov:.6f}\")\n"
   ]
  },
  {
   "cell_type": "code",
   "execution_count": null,
   "id": "670d99c5-d661-4a16-94e6-e889008a3cbe",
   "metadata": {},
   "outputs": [],
   "source": []
  }
 ],
 "metadata": {
  "kernelspec": {
   "display_name": "Python 3 (ipykernel)",
   "language": "python",
   "name": "python3"
  },
  "language_info": {
   "codemirror_mode": {
    "name": "ipython",
    "version": 3
   },
   "file_extension": ".py",
   "mimetype": "text/x-python",
   "name": "python",
   "nbconvert_exporter": "python",
   "pygments_lexer": "ipython3",
   "version": "3.10.12"
  }
 },
 "nbformat": 4,
 "nbformat_minor": 5
}
